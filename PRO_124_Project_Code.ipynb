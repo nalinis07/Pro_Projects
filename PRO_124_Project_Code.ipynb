{
  "nbformat": 4,
  "nbformat_minor": 0,
  "metadata": {
    "colab": {
      "provenance": [],
      "include_colab_link": true
    },
    "kernelspec": {
      "name": "python3",
      "display_name": "Python 3"
    },
    "language_info": {
      "name": "python"
    }
  },
  "cells": [
    {
      "cell_type": "markdown",
      "metadata": {
        "id": "view-in-github",
        "colab_type": "text"
      },
      "source": [
        "<a href=\"https://colab.research.google.com/github/nalinis07/Pro_Projects/blob/MASTER/PRO_124_Project_Code.ipynb\" target=\"_parent\"><img src=\"https://colab.research.google.com/assets/colab-badge.svg\" alt=\"Open In Colab\"/></a>"
      ]
    },
    {
      "cell_type": "markdown",
      "source": [
        "## Print Elements of Array"
      ],
      "metadata": {
        "id": "xZm_Pf8B1ehI"
      }
    },
    {
      "cell_type": "markdown",
      "source": [
        "**Problem**: Given 1X1 Array:\n",
        "\n",
        "```\n",
        "arr_1d = [53, 78, 90, 12, 15, 65, 44, 32, 29, 36]\n",
        "```\n",
        "\n",
        "1. Print 3rd and 9th element of the array.\n",
        "2. Change  3rd and 9th element to 100.\n"
      ],
      "metadata": {
        "id": "Sa43lAGbgtEp"
      }
    },
    {
      "cell_type": "code",
      "source": [
        "# write code here\n",
        "\n",
        "import numpy as np\n",
        "\n",
        "arr_1d = np.array([53, 78, 90, 12, 15, 65, 44, 32, 29, 36])\n",
        "\n",
        "print(arr_1d[2])\n",
        "print(arr_1d[8])\n",
        "\n",
        "arr_1d[2]=100\n",
        "arr_1d[8]=100\n",
        "\n",
        "print(arr_1d)"
      ],
      "metadata": {
        "colab": {
          "base_uri": "https://localhost:8080/"
        },
        "id": "8Tu6DVd_gsyW",
        "outputId": "115c30ac-c1ca-476f-d040-b68929079a2a"
      },
      "execution_count": null,
      "outputs": [
        {
          "output_type": "stream",
          "name": "stdout",
          "text": [
            "90\n",
            "29\n",
            "[ 53  78 100  12  15  65  44  32 100  36]\n"
          ]
        }
      ]
    },
    {
      "cell_type": "markdown",
      "source": [
        "## Update Diagonal Elements of Multidimensional Array"
      ],
      "metadata": {
        "id": "uRA1HzKH1tnN"
      }
    },
    {
      "cell_type": "markdown",
      "source": [
        "**Problem**: Given a 3x3 array, change all the diagonal elements of the matrix to 0.\n",
        "\n",
        "```\n",
        "\n",
        "arr_2d = [[1,2,3],\n",
        "          [4,5,6],\n",
        "          [7,8,9]]\n",
        "```\n",
        "\n",
        "\n",
        "\n"
      ],
      "metadata": {
        "id": "3eSRw71ohlfT"
      }
    },
    {
      "cell_type": "code",
      "source": [
        "#Write code here\n",
        "\n",
        "arr_2d=np.array([[1,2,3],\n",
        "        [4,5,6],\n",
        "        [7,8,9]])\n",
        "\n",
        "rows=3\n",
        "cols=3\n",
        "\n",
        "for i in range(rows):\n",
        "  for j in range(cols):\n",
        "    if i==j:\n",
        "      arr_2d[i][j]=0\n",
        "    else:\n",
        "      pass\n",
        "\n",
        "print(arr_2d)"
      ],
      "metadata": {
        "colab": {
          "base_uri": "https://localhost:8080/"
        },
        "id": "FR0UU8eohcL2",
        "outputId": "a86f6be4-5a4d-4a63-b919-fb2f361a1ec9"
      },
      "execution_count": null,
      "outputs": [
        {
          "output_type": "stream",
          "name": "stdout",
          "text": [
            "[[0 2 3]\n",
            " [4 0 6]\n",
            " [7 8 0]]\n"
          ]
        }
      ]
    },
    {
      "cell_type": "markdown",
      "source": [
        "## Numbers of Rows & Column"
      ],
      "metadata": {
        "id": "bXr0ly2R2eWL"
      }
    },
    {
      "cell_type": "markdown",
      "source": [
        "**Problem**: Write a program to find the number of rows and columns present in the matrix given below.\n",
        "Note: Initialize the matrix using NumPy.\n",
        "\n",
        "```\n",
        " A= [[9,5,6,1,-2],\n",
        "    [3,-8,1,2,0],\n",
        "    [6,9,3,3,5]]\n",
        "```\n",
        "\n"
      ],
      "metadata": {
        "id": "Zd4zvVe6aDuH"
      }
    },
    {
      "cell_type": "code",
      "execution_count": null,
      "metadata": {
        "colab": {
          "base_uri": "https://localhost:8080/"
        },
        "id": "Pc1piH7OaABW",
        "outputId": "ba45f5fb-5392-4ddf-e4d9-d35fd41ca4d7"
      },
      "outputs": [
        {
          "output_type": "stream",
          "name": "stdout",
          "text": [
            "number of rows =  3\n",
            "number of columns =  5\n"
          ]
        }
      ],
      "source": [
        "# write code here\n",
        "import numpy as np\n",
        "\n",
        "A= np.array([[9,5,6,1,-2],\n",
        "            [3,-8,1,2,0],\n",
        "            [6,9,3,3,5]])\n",
        "\n",
        "#Length of A = rows\n",
        "cols=len(A[0])\n",
        "\n",
        "#Length of first array=number of column\n",
        "rows=len(A)\n",
        "print('number of rows = ',rows)\n",
        "print('number of columns = ',cols)\n"
      ]
    },
    {
      "cell_type": "markdown",
      "source": [
        "## Scalar Multiplication"
      ],
      "metadata": {
        "id": "e-VQUDqo3Z89"
      }
    },
    {
      "cell_type": "markdown",
      "source": [
        "**Problem**: Print each element of the following matrix. Initialize the matrix using NumPy.  <br />\n",
        "Also, multiply the matrix with n = 150 and print the matrix after multiplication.\n",
        "   \n",
        "```\n",
        " B=[[-8,0,2,4],[5,2,-1,7]]\n",
        "```\n",
        "\n",
        "\n",
        "   "
      ],
      "metadata": {
        "id": "T49oCERtaugu"
      }
    },
    {
      "cell_type": "code",
      "source": [
        "# write code here\n",
        "import numpy as np\n",
        "B=np.array([[-8,0,2,4],\n",
        "           [5,2,-1,7]])\n",
        "\n",
        "rows=len(B)\n",
        "cols=len(B[0])\n",
        "\n",
        "n=rows*cols         #total number of elements\n",
        "\n",
        "C=np.zeros([rows,cols])\n",
        "\n",
        "#print all the elements of the matrix\n",
        "count=1\n",
        "for i in range (rows):\n",
        "  for j in range (cols):\n",
        "      C[i][j]=150*B[i][j]\n",
        "      if count<=n:\n",
        "        print('Element ',count,' is ', B[i][j])\n",
        "        count+=1\n",
        "\n",
        "print('\\n', C)"
      ],
      "metadata": {
        "colab": {
          "base_uri": "https://localhost:8080/"
        },
        "id": "lqYsQ20ZgeXy",
        "outputId": "cfaaf20d-288f-4074-9207-fb7c6bd45a44"
      },
      "execution_count": null,
      "outputs": [
        {
          "output_type": "stream",
          "name": "stdout",
          "text": [
            "Element  1  is  -8\n",
            "Element  2  is  0\n",
            "Element  3  is  2\n",
            "Element  4  is  4\n",
            "Element  5  is  5\n",
            "Element  6  is  2\n",
            "Element  7  is  -1\n",
            "Element  8  is  7\n",
            "\n",
            " [[-1200.     0.   300.   600.]\n",
            " [  750.   300.  -150.  1050.]]\n"
          ]
        }
      ]
    }
  ]
}